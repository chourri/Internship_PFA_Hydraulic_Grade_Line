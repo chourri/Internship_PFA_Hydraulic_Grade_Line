{
 "cells": [
  {
   "cell_type": "markdown",
   "metadata": {},
   "source": [
    "### Preprocessing Terminal Station"
   ]
  },
  {
   "cell_type": "code",
   "execution_count": 1,
   "metadata": {},
   "outputs": [
    {
     "data": {
      "text/plain": [
       "['Date', '16-PIT-001', '16-FIT-006', '16-DIT-005']"
      ]
     },
     "execution_count": 1,
     "metadata": {},
     "output_type": "execute_result"
    }
   ],
   "source": [
    "import pandas as pd\n",
    "\n",
    "df = pd.read_csv(\"datasets/Terminal_station.csv\", sep=\";\",  encoding='utf-8-sig')\n",
    "df.columns.tolist()"
   ]
  },
  {
   "cell_type": "code",
   "execution_count": 2,
   "metadata": {},
   "outputs": [
    {
     "name": "stderr",
     "output_type": "stream",
     "text": [
      "/var/folders/zz/zyxvpxvq6csfxvn_n000cly40034zj/T/ipykernel_37540/3979847848.py:2: UserWarning: Could not infer format, so each element will be parsed individually, falling back to `dateutil`. To ensure parsing is consistent and as-expected, please specify a format.\n",
      "  df['Date'] = pd.to_datetime(df['Date'], dayfirst=True)\n"
     ]
    },
    {
     "name": "stdout",
     "output_type": "stream",
     "text": [
      "0   2025-07-01 00:00:00\n",
      "1   2025-07-01 00:05:00\n",
      "2   2025-07-01 00:10:00\n",
      "3   2025-07-01 00:15:00\n",
      "4   2025-07-01 00:20:00\n",
      "Name: Date, dtype: datetime64[ns]\n"
     ]
    }
   ],
   "source": [
    "#-------------------------------converting Date to detetime format--------------------------------\n",
    "df['Date'] = pd.to_datetime(df['Date'], dayfirst=True)\n",
    "print(df['Date'].head())"
   ]
  },
  {
   "cell_type": "code",
   "execution_count": 3,
   "metadata": {},
   "outputs": [
    {
     "data": {
      "text/html": [
       "<div>\n",
       "<style scoped>\n",
       "    .dataframe tbody tr th:only-of-type {\n",
       "        vertical-align: middle;\n",
       "    }\n",
       "\n",
       "    .dataframe tbody tr th {\n",
       "        vertical-align: top;\n",
       "    }\n",
       "\n",
       "    .dataframe thead th {\n",
       "        text-align: right;\n",
       "    }\n",
       "</style>\n",
       "<table border=\"1\" class=\"dataframe\">\n",
       "  <thead>\n",
       "    <tr style=\"text-align: right;\">\n",
       "      <th></th>\n",
       "      <th>Date</th>\n",
       "      <th>16-PIT-001</th>\n",
       "      <th>16-FIT-006</th>\n",
       "      <th>16-DIT-005</th>\n",
       "    </tr>\n",
       "  </thead>\n",
       "  <tbody>\n",
       "    <tr>\n",
       "      <th>0</th>\n",
       "      <td>2025-07-01 00:00:00</td>\n",
       "      <td>2313.472900</td>\n",
       "      <td>4297.779785</td>\n",
       "      <td>1011.437988</td>\n",
       "    </tr>\n",
       "    <tr>\n",
       "      <th>1</th>\n",
       "      <td>2025-07-01 00:05:00</td>\n",
       "      <td>2318.177002</td>\n",
       "      <td>4279.475098</td>\n",
       "      <td>1007.171021</td>\n",
       "    </tr>\n",
       "    <tr>\n",
       "      <th>2</th>\n",
       "      <td>2025-07-01 00:10:00</td>\n",
       "      <td>2326.404053</td>\n",
       "      <td>4268.615234</td>\n",
       "      <td>1005.780029</td>\n",
       "    </tr>\n",
       "    <tr>\n",
       "      <th>3</th>\n",
       "      <td>2025-07-01 00:15:00</td>\n",
       "      <td>2309.052979</td>\n",
       "      <td>4229.458008</td>\n",
       "      <td>1005.739990</td>\n",
       "    </tr>\n",
       "    <tr>\n",
       "      <th>4</th>\n",
       "      <td>2025-07-01 00:20:00</td>\n",
       "      <td>2297.195068</td>\n",
       "      <td>4222.040039</td>\n",
       "      <td>1006.155029</td>\n",
       "    </tr>\n",
       "    <tr>\n",
       "      <th>5</th>\n",
       "      <td>2025-07-01 00:25:00</td>\n",
       "      <td>2294.169922</td>\n",
       "      <td>4174.189941</td>\n",
       "      <td>1005.440002</td>\n",
       "    </tr>\n",
       "    <tr>\n",
       "      <th>6</th>\n",
       "      <td>2025-07-01 00:30:00</td>\n",
       "      <td>2157.314941</td>\n",
       "      <td>4581.761230</td>\n",
       "      <td>1005.460999</td>\n",
       "    </tr>\n",
       "    <tr>\n",
       "      <th>7</th>\n",
       "      <td>2025-07-01 00:35:00</td>\n",
       "      <td>2081.877930</td>\n",
       "      <td>4540.120117</td>\n",
       "      <td>1005.039001</td>\n",
       "    </tr>\n",
       "    <tr>\n",
       "      <th>8</th>\n",
       "      <td>2025-07-01 00:40:00</td>\n",
       "      <td>2089.527100</td>\n",
       "      <td>4444.888184</td>\n",
       "      <td>1005.033020</td>\n",
       "    </tr>\n",
       "    <tr>\n",
       "      <th>9</th>\n",
       "      <td>2025-07-01 00:45:00</td>\n",
       "      <td>2071.048096</td>\n",
       "      <td>4503.438965</td>\n",
       "      <td>1008.776001</td>\n",
       "    </tr>\n",
       "  </tbody>\n",
       "</table>\n",
       "</div>"
      ],
      "text/plain": [
       "                 Date   16-PIT-001   16-FIT-006   16-DIT-005\n",
       "0 2025-07-01 00:00:00  2313.472900  4297.779785  1011.437988\n",
       "1 2025-07-01 00:05:00  2318.177002  4279.475098  1007.171021\n",
       "2 2025-07-01 00:10:00  2326.404053  4268.615234  1005.780029\n",
       "3 2025-07-01 00:15:00  2309.052979  4229.458008  1005.739990\n",
       "4 2025-07-01 00:20:00  2297.195068  4222.040039  1006.155029\n",
       "5 2025-07-01 00:25:00  2294.169922  4174.189941  1005.440002\n",
       "6 2025-07-01 00:30:00  2157.314941  4581.761230  1005.460999\n",
       "7 2025-07-01 00:35:00  2081.877930  4540.120117  1005.039001\n",
       "8 2025-07-01 00:40:00  2089.527100  4444.888184  1005.033020\n",
       "9 2025-07-01 00:45:00  2071.048096  4503.438965  1008.776001"
      ]
     },
     "execution_count": 3,
     "metadata": {},
     "output_type": "execute_result"
    }
   ],
   "source": [
    "#-------------fixing the comma issue : (cus we have the european decima; commas instead of dot)----\n",
    "\n",
    "cols_to_convert = ['16-PIT-001', '16-FIT-006', '16-DIT-005']\n",
    "\n",
    "for c in cols_to_convert:\n",
    "    df[c] = df[c].astype(str).str.replace(\",\", \".\", regex=False).astype(float)\n",
    "\n",
    "df.head(10)"
   ]
  },
  {
   "cell_type": "code",
   "execution_count": 4,
   "metadata": {},
   "outputs": [],
   "source": [
    "\n",
    "df.rename(columns={'16-PIT-001' : 'Pressure_T'}, inplace=True)\n",
    "df.rename(columns={'16-FIT-006' : 'Flow_T'}, inplace=True)\n",
    "df.rename(columns={'16-DIT-005' : 'Density_T'}, inplace=True)\n",
    "\n",
    "df.head()\n",
    "\n",
    "\n",
    "df.to_csv(\"./new_datasets/terminal_dataset.csv\", index=False)"
   ]
  }
 ],
 "metadata": {
  "kernelspec": {
   "display_name": "myvenv",
   "language": "python",
   "name": "python3"
  },
  "language_info": {
   "codemirror_mode": {
    "name": "ipython",
    "version": 3
   },
   "file_extension": ".py",
   "mimetype": "text/x-python",
   "name": "python",
   "nbconvert_exporter": "python",
   "pygments_lexer": "ipython3",
   "version": "3.9.5"
  }
 },
 "nbformat": 4,
 "nbformat_minor": 2
}
