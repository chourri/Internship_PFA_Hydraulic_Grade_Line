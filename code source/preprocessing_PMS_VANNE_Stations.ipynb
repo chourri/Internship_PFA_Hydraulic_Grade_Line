{
 "cells": [
  {
   "cell_type": "markdown",
   "metadata": {},
   "source": [
    "### Preprocessing PMS et VS"
   ]
  },
  {
   "cell_type": "code",
   "execution_count": 1,
   "metadata": {},
   "outputs": [
    {
     "data": {
      "text/plain": [
       "['Date',\n",
       " '11-PIT-001',\n",
       " '12-PIT-001',\n",
       " '12-PIT-003',\n",
       " '12-PIT-005',\n",
       " '13-PIT-001',\n",
       " '14-PIT-001',\n",
       " '15-PIT-001']"
      ]
     },
     "execution_count": 1,
     "metadata": {},
     "output_type": "execute_result"
    }
   ],
   "source": [
    "import pandas as pd\n",
    "\n",
    "df = pd.read_csv(\"datasets/PMS_ET_SV.csv\", sep=\";\",  encoding='utf-8-sig')\n",
    "df.columns.tolist()"
   ]
  },
  {
   "cell_type": "code",
   "execution_count": 2,
   "metadata": {},
   "outputs": [
    {
     "name": "stderr",
     "output_type": "stream",
     "text": [
      "/var/folders/zz/zyxvpxvq6csfxvn_n000cly40034zj/T/ipykernel_37545/3979847848.py:2: UserWarning: Could not infer format, so each element will be parsed individually, falling back to `dateutil`. To ensure parsing is consistent and as-expected, please specify a format.\n",
      "  df['Date'] = pd.to_datetime(df['Date'], dayfirst=True)\n"
     ]
    },
    {
     "name": "stdout",
     "output_type": "stream",
     "text": [
      "0   2025-07-01 00:00:00\n",
      "1   2025-07-01 00:05:00\n",
      "2   2025-07-01 00:10:00\n",
      "3   2025-07-01 00:15:00\n",
      "4   2025-07-01 00:20:00\n",
      "Name: Date, dtype: datetime64[ns]\n"
     ]
    }
   ],
   "source": [
    "#-------------------------------converting Date to detetime format--------------------------------\n",
    "df['Date'] = pd.to_datetime(df['Date'], dayfirst=True)\n",
    "print(df['Date'].head())"
   ]
  },
  {
   "cell_type": "code",
   "execution_count": 3,
   "metadata": {},
   "outputs": [
    {
     "data": {
      "text/html": [
       "<div>\n",
       "<style scoped>\n",
       "    .dataframe tbody tr th:only-of-type {\n",
       "        vertical-align: middle;\n",
       "    }\n",
       "\n",
       "    .dataframe tbody tr th {\n",
       "        vertical-align: top;\n",
       "    }\n",
       "\n",
       "    .dataframe thead th {\n",
       "        text-align: right;\n",
       "    }\n",
       "</style>\n",
       "<table border=\"1\" class=\"dataframe\">\n",
       "  <thead>\n",
       "    <tr style=\"text-align: right;\">\n",
       "      <th></th>\n",
       "      <th>Date</th>\n",
       "      <th>11-PIT-001</th>\n",
       "      <th>12-PIT-001</th>\n",
       "      <th>12-PIT-003</th>\n",
       "      <th>12-PIT-005</th>\n",
       "      <th>13-PIT-001</th>\n",
       "      <th>14-PIT-001</th>\n",
       "      <th>15-PIT-001</th>\n",
       "    </tr>\n",
       "  </thead>\n",
       "  <tbody>\n",
       "    <tr>\n",
       "      <th>0</th>\n",
       "      <td>2025-07-01 00:00:00</td>\n",
       "      <td>1090.795044</td>\n",
       "      <td>2064.676025</td>\n",
       "      <td>2079.925049</td>\n",
       "      <td>2025.706055</td>\n",
       "      <td>2924.633057</td>\n",
       "      <td>5020.472168</td>\n",
       "      <td>2361.497070</td>\n",
       "    </tr>\n",
       "    <tr>\n",
       "      <th>1</th>\n",
       "      <td>2025-07-01 00:05:00</td>\n",
       "      <td>1114.703979</td>\n",
       "      <td>2105.525879</td>\n",
       "      <td>2131.200928</td>\n",
       "      <td>2067.266113</td>\n",
       "      <td>2974.745117</td>\n",
       "      <td>5079.658203</td>\n",
       "      <td>2404.169922</td>\n",
       "    </tr>\n",
       "    <tr>\n",
       "      <th>2</th>\n",
       "      <td>2025-07-01 00:10:00</td>\n",
       "      <td>1146.083984</td>\n",
       "      <td>2145.028076</td>\n",
       "      <td>2150.552002</td>\n",
       "      <td>2094.788086</td>\n",
       "      <td>2969.773926</td>\n",
       "      <td>5081.241211</td>\n",
       "      <td>2413.079102</td>\n",
       "    </tr>\n",
       "    <tr>\n",
       "      <th>3</th>\n",
       "      <td>2025-07-01 00:15:00</td>\n",
       "      <td>1206.381958</td>\n",
       "      <td>2189.333008</td>\n",
       "      <td>2200.471924</td>\n",
       "      <td>2140.256104</td>\n",
       "      <td>2992.614990</td>\n",
       "      <td>5102.819824</td>\n",
       "      <td>2445.605957</td>\n",
       "    </tr>\n",
       "    <tr>\n",
       "      <th>4</th>\n",
       "      <td>2025-07-01 00:20:00</td>\n",
       "      <td>1202.629028</td>\n",
       "      <td>2203.731934</td>\n",
       "      <td>2230.217041</td>\n",
       "      <td>2162.746094</td>\n",
       "      <td>3017.419922</td>\n",
       "      <td>5149.336914</td>\n",
       "      <td>2514.121094</td>\n",
       "    </tr>\n",
       "    <tr>\n",
       "      <th>5</th>\n",
       "      <td>2025-07-01 00:25:00</td>\n",
       "      <td>1786.676025</td>\n",
       "      <td>2356.533936</td>\n",
       "      <td>2366.060059</td>\n",
       "      <td>2316.239014</td>\n",
       "      <td>3068.454102</td>\n",
       "      <td>5191.568848</td>\n",
       "      <td>2561.498047</td>\n",
       "    </tr>\n",
       "    <tr>\n",
       "      <th>6</th>\n",
       "      <td>2025-07-01 00:30:00</td>\n",
       "      <td>2271.816895</td>\n",
       "      <td>3111.925049</td>\n",
       "      <td>3130.147949</td>\n",
       "      <td>3088.028076</td>\n",
       "      <td>3622.842041</td>\n",
       "      <td>5560.867188</td>\n",
       "      <td>2653.104980</td>\n",
       "    </tr>\n",
       "    <tr>\n",
       "      <th>7</th>\n",
       "      <td>2025-07-01 00:35:00</td>\n",
       "      <td>2267.376953</td>\n",
       "      <td>3107.980957</td>\n",
       "      <td>3116.486084</td>\n",
       "      <td>3062.335938</td>\n",
       "      <td>3563.596924</td>\n",
       "      <td>5466.437988</td>\n",
       "      <td>2576.297119</td>\n",
       "    </tr>\n",
       "    <tr>\n",
       "      <th>8</th>\n",
       "      <td>2025-07-01 00:40:00</td>\n",
       "      <td>2302.743896</td>\n",
       "      <td>3160.202881</td>\n",
       "      <td>3166.531982</td>\n",
       "      <td>3111.870117</td>\n",
       "      <td>3574.393066</td>\n",
       "      <td>5480.424805</td>\n",
       "      <td>2587.756104</td>\n",
       "    </tr>\n",
       "    <tr>\n",
       "      <th>9</th>\n",
       "      <td>2025-07-01 00:45:00</td>\n",
       "      <td>2338.111084</td>\n",
       "      <td>3183.919922</td>\n",
       "      <td>3202.989990</td>\n",
       "      <td>3139.400879</td>\n",
       "      <td>3585.187988</td>\n",
       "      <td>5497.556152</td>\n",
       "      <td>2634.793945</td>\n",
       "    </tr>\n",
       "  </tbody>\n",
       "</table>\n",
       "</div>"
      ],
      "text/plain": [
       "                 Date   11-PIT-001   12-PIT-001   12-PIT-003   12-PIT-005  \\\n",
       "0 2025-07-01 00:00:00  1090.795044  2064.676025  2079.925049  2025.706055   \n",
       "1 2025-07-01 00:05:00  1114.703979  2105.525879  2131.200928  2067.266113   \n",
       "2 2025-07-01 00:10:00  1146.083984  2145.028076  2150.552002  2094.788086   \n",
       "3 2025-07-01 00:15:00  1206.381958  2189.333008  2200.471924  2140.256104   \n",
       "4 2025-07-01 00:20:00  1202.629028  2203.731934  2230.217041  2162.746094   \n",
       "5 2025-07-01 00:25:00  1786.676025  2356.533936  2366.060059  2316.239014   \n",
       "6 2025-07-01 00:30:00  2271.816895  3111.925049  3130.147949  3088.028076   \n",
       "7 2025-07-01 00:35:00  2267.376953  3107.980957  3116.486084  3062.335938   \n",
       "8 2025-07-01 00:40:00  2302.743896  3160.202881  3166.531982  3111.870117   \n",
       "9 2025-07-01 00:45:00  2338.111084  3183.919922  3202.989990  3139.400879   \n",
       "\n",
       "    13-PIT-001   14-PIT-001   15-PIT-001  \n",
       "0  2924.633057  5020.472168  2361.497070  \n",
       "1  2974.745117  5079.658203  2404.169922  \n",
       "2  2969.773926  5081.241211  2413.079102  \n",
       "3  2992.614990  5102.819824  2445.605957  \n",
       "4  3017.419922  5149.336914  2514.121094  \n",
       "5  3068.454102  5191.568848  2561.498047  \n",
       "6  3622.842041  5560.867188  2653.104980  \n",
       "7  3563.596924  5466.437988  2576.297119  \n",
       "8  3574.393066  5480.424805  2587.756104  \n",
       "9  3585.187988  5497.556152  2634.793945  "
      ]
     },
     "execution_count": 3,
     "metadata": {},
     "output_type": "execute_result"
    }
   ],
   "source": [
    "#-------------fixing the comma issue : (cus we have the european decima; commas instead of dot)----\n",
    "\n",
    "cols_to_convert = ['11-PIT-001', '12-PIT-001', '12-PIT-003', '12-PIT-005', '13-PIT-001', \n",
    "'14-PIT-001', '15-PIT-001']\n",
    "\n",
    "for c in cols_to_convert:\n",
    "    df[c] = df[c].astype(str).str.replace(\",\", \".\", regex=False).astype(float)\n",
    "\n",
    "df.head(10)"
   ]
  },
  {
   "cell_type": "code",
   "execution_count": 4,
   "metadata": {},
   "outputs": [],
   "source": [
    "#------------------------computation of the averages for density & pressure----------------------------\n",
    "#pressure : \n",
    "df['Presure_SV_Average'] = df[['12-PIT-001', '12-PIT-003', '12-PIT-005']].mean(axis=1)\n",
    "\n",
    "df = df.drop(columns=['12-PIT-001', '12-PIT-003', '12-PIT-005'], axis=1)\n",
    "df.head()\n",
    "\n",
    "df.to_csv(\"./new_datasets/Cleaned_PMS_SV_station.csv\", index=False)"
   ]
  }
 ],
 "metadata": {
  "kernelspec": {
   "display_name": "myvenv",
   "language": "python",
   "name": "python3"
  },
  "language_info": {
   "codemirror_mode": {
    "name": "ipython",
    "version": 3
   },
   "file_extension": ".py",
   "mimetype": "text/x-python",
   "name": "python",
   "nbconvert_exporter": "python",
   "pygments_lexer": "ipython3",
   "version": "3.9.5"
  }
 },
 "nbformat": 4,
 "nbformat_minor": 2
}
