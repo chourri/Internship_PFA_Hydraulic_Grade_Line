{
 "cells": [
  {
   "cell_type": "markdown",
   "metadata": {},
   "source": [
    "### Preprcessing Head Satation"
   ]
  },
  {
   "cell_type": "code",
   "execution_count": 5,
   "metadata": {},
   "outputs": [
    {
     "data": {
      "text/plain": [
       "['Date',\n",
       " '10-DIT-509',\n",
       " '10-DIT-609',\n",
       " '10-PIT-507',\n",
       " '10-PIT-607',\n",
       " '10-PIT-416',\n",
       " '10-FIT-508']"
      ]
     },
     "execution_count": 5,
     "metadata": {},
     "output_type": "execute_result"
    }
   ],
   "source": [
    "import pandas as pd\n",
    "\n",
    "df = pd.read_csv(\"datasets/Head_station.csv\", sep=\";\",  encoding='utf-8-sig')\n",
    "df.columns.tolist()"
   ]
  },
  {
   "cell_type": "code",
   "execution_count": 6,
   "metadata": {},
   "outputs": [
    {
     "name": "stderr",
     "output_type": "stream",
     "text": [
      "/var/folders/zz/zyxvpxvq6csfxvn_n000cly40034zj/T/ipykernel_67498/3979847848.py:2: UserWarning: Could not infer format, so each element will be parsed individually, falling back to `dateutil`. To ensure parsing is consistent and as-expected, please specify a format.\n",
      "  df['Date'] = pd.to_datetime(df['Date'], dayfirst=True)\n"
     ]
    },
    {
     "name": "stdout",
     "output_type": "stream",
     "text": [
      "0   2025-07-01 00:00:00\n",
      "1   2025-07-01 00:05:00\n",
      "2   2025-07-01 00:10:00\n",
      "3   2025-07-01 00:15:00\n",
      "4   2025-07-01 00:20:00\n",
      "Name: Date, dtype: datetime64[ns]\n"
     ]
    }
   ],
   "source": [
    "#-------------------------------converting Date to detetime format--------------------------------\n",
    "df['Date'] = pd.to_datetime(df['Date'], dayfirst=True)\n",
    "print(df['Date'].head())"
   ]
  },
  {
   "cell_type": "code",
   "execution_count": 7,
   "metadata": {},
   "outputs": [
    {
     "data": {
      "text/html": [
       "<div>\n",
       "<style scoped>\n",
       "    .dataframe tbody tr th:only-of-type {\n",
       "        vertical-align: middle;\n",
       "    }\n",
       "\n",
       "    .dataframe tbody tr th {\n",
       "        vertical-align: top;\n",
       "    }\n",
       "\n",
       "    .dataframe thead th {\n",
       "        text-align: right;\n",
       "    }\n",
       "</style>\n",
       "<table border=\"1\" class=\"dataframe\">\n",
       "  <thead>\n",
       "    <tr style=\"text-align: right;\">\n",
       "      <th></th>\n",
       "      <th>Date</th>\n",
       "      <th>10-DIT-509</th>\n",
       "      <th>10-DIT-609</th>\n",
       "      <th>10-PIT-507</th>\n",
       "      <th>10-PIT-607</th>\n",
       "      <th>10-PIT-416</th>\n",
       "      <th>10-FIT-508</th>\n",
       "    </tr>\n",
       "  </thead>\n",
       "  <tbody>\n",
       "    <tr>\n",
       "      <th>0</th>\n",
       "      <td>2025-07-01 00:00:00</td>\n",
       "      <td>995.690125</td>\n",
       "      <td>1027.256958</td>\n",
       "      <td>11.82175</td>\n",
       "      <td>3534.726074</td>\n",
       "      <td>3522.706055</td>\n",
       "      <td>4242.119141</td>\n",
       "    </tr>\n",
       "    <tr>\n",
       "      <th>1</th>\n",
       "      <td>2025-07-01 00:05:00</td>\n",
       "      <td>995.653320</td>\n",
       "      <td>1027.170044</td>\n",
       "      <td>12.06435</td>\n",
       "      <td>3520.537109</td>\n",
       "      <td>3547.032959</td>\n",
       "      <td>4241.749023</td>\n",
       "    </tr>\n",
       "    <tr>\n",
       "      <th>2</th>\n",
       "      <td>2025-07-01 00:10:00</td>\n",
       "      <td>995.616394</td>\n",
       "      <td>1027.082031</td>\n",
       "      <td>12.38934</td>\n",
       "      <td>3548.114014</td>\n",
       "      <td>3536.379883</td>\n",
       "      <td>4338.628906</td>\n",
       "    </tr>\n",
       "    <tr>\n",
       "      <th>3</th>\n",
       "      <td>2025-07-01 00:15:00</td>\n",
       "      <td>995.579590</td>\n",
       "      <td>1026.994019</td>\n",
       "      <td>12.13432</td>\n",
       "      <td>3533.294922</td>\n",
       "      <td>3521.965088</td>\n",
       "      <td>4374.752930</td>\n",
       "    </tr>\n",
       "    <tr>\n",
       "      <th>4</th>\n",
       "      <td>2025-07-01 00:20:00</td>\n",
       "      <td>995.542725</td>\n",
       "      <td>1026.906006</td>\n",
       "      <td>12.05495</td>\n",
       "      <td>3613.928955</td>\n",
       "      <td>3597.782959</td>\n",
       "      <td>4233.666992</td>\n",
       "    </tr>\n",
       "    <tr>\n",
       "      <th>5</th>\n",
       "      <td>2025-07-01 00:25:00</td>\n",
       "      <td>995.505920</td>\n",
       "      <td>1262.832031</td>\n",
       "      <td>12.23758</td>\n",
       "      <td>4779.706055</td>\n",
       "      <td>4761.679199</td>\n",
       "      <td>4481.708984</td>\n",
       "    </tr>\n",
       "    <tr>\n",
       "      <th>6</th>\n",
       "      <td>2025-07-01 00:30:00</td>\n",
       "      <td>995.469116</td>\n",
       "      <td>1603.510986</td>\n",
       "      <td>12.42020</td>\n",
       "      <td>4899.333984</td>\n",
       "      <td>4910.603027</td>\n",
       "      <td>4093.750977</td>\n",
       "    </tr>\n",
       "    <tr>\n",
       "      <th>7</th>\n",
       "      <td>2025-07-01 00:35:00</td>\n",
       "      <td>995.432312</td>\n",
       "      <td>1606.296021</td>\n",
       "      <td>11.94357</td>\n",
       "      <td>4894.967773</td>\n",
       "      <td>4906.178223</td>\n",
       "      <td>4029.677979</td>\n",
       "    </tr>\n",
       "    <tr>\n",
       "      <th>8</th>\n",
       "      <td>2025-07-01 00:40:00</td>\n",
       "      <td>995.395386</td>\n",
       "      <td>1601.588989</td>\n",
       "      <td>12.39208</td>\n",
       "      <td>4898.250000</td>\n",
       "      <td>4903.940918</td>\n",
       "      <td>4127.561035</td>\n",
       "    </tr>\n",
       "    <tr>\n",
       "      <th>9</th>\n",
       "      <td>2025-07-01 00:45:00</td>\n",
       "      <td>995.358582</td>\n",
       "      <td>1604.258057</td>\n",
       "      <td>12.10467</td>\n",
       "      <td>4896.645020</td>\n",
       "      <td>4907.172852</td>\n",
       "      <td>4043.124023</td>\n",
       "    </tr>\n",
       "  </tbody>\n",
       "</table>\n",
       "</div>"
      ],
      "text/plain": [
       "                 Date  10-DIT-509   10-DIT-609  10-PIT-507   10-PIT-607  \\\n",
       "0 2025-07-01 00:00:00  995.690125  1027.256958    11.82175  3534.726074   \n",
       "1 2025-07-01 00:05:00  995.653320  1027.170044    12.06435  3520.537109   \n",
       "2 2025-07-01 00:10:00  995.616394  1027.082031    12.38934  3548.114014   \n",
       "3 2025-07-01 00:15:00  995.579590  1026.994019    12.13432  3533.294922   \n",
       "4 2025-07-01 00:20:00  995.542725  1026.906006    12.05495  3613.928955   \n",
       "5 2025-07-01 00:25:00  995.505920  1262.832031    12.23758  4779.706055   \n",
       "6 2025-07-01 00:30:00  995.469116  1603.510986    12.42020  4899.333984   \n",
       "7 2025-07-01 00:35:00  995.432312  1606.296021    11.94357  4894.967773   \n",
       "8 2025-07-01 00:40:00  995.395386  1601.588989    12.39208  4898.250000   \n",
       "9 2025-07-01 00:45:00  995.358582  1604.258057    12.10467  4896.645020   \n",
       "\n",
       "    10-PIT-416   10-FIT-508  \n",
       "0  3522.706055  4242.119141  \n",
       "1  3547.032959  4241.749023  \n",
       "2  3536.379883  4338.628906  \n",
       "3  3521.965088  4374.752930  \n",
       "4  3597.782959  4233.666992  \n",
       "5  4761.679199  4481.708984  \n",
       "6  4910.603027  4093.750977  \n",
       "7  4906.178223  4029.677979  \n",
       "8  4903.940918  4127.561035  \n",
       "9  4907.172852  4043.124023  "
      ]
     },
     "execution_count": 7,
     "metadata": {},
     "output_type": "execute_result"
    }
   ],
   "source": [
    "#-------------fixing the comma issue : (cus we have the european decima; commas instead of dot)----\n",
    "\n",
    "cols_to_convert = ['10-DIT-509', '10-DIT-609', '10-PIT-507', '10-PIT-607', '10-PIT-416', \n",
    "'10-FIT-508']\n",
    "for c in cols_to_convert:\n",
    "    df[c] = df[c].astype(str).str.replace(\",\", \".\", regex=False).astype(float)\n",
    "df.head(10)"
   ]
  },
  {
   "cell_type": "code",
   "execution_count": 8,
   "metadata": {},
   "outputs": [],
   "source": [
    "#------------------------computation of the averages for density & pressure----------------------------\n",
    "#density : \n",
    "df['Density_HS_Average'] = df[['10-DIT-509', '10-DIT-609']].mean(axis=1)\n",
    "\n",
    "#pressure\n",
    "df['Pressure_HS_Average'] = df[['10-PIT-507', '10-PIT-607']].mean(axis=1)\n",
    "\n",
    "df.rename(columns={'10-FIT-508' : 'Flow_HS'}, inplace=True)\n",
    "\n",
    "df = df.drop(columns=['10-DIT-509', '10-DIT-609', '10-PIT-507', '10-PIT-607', '10-PIT-416'], axis=1)\n",
    "df.head()\n",
    "\n",
    "\n",
    "df.to_csv(\"./new_datasets/Head_dataset.csv\", index=False)"
   ]
  }
 ],
 "metadata": {
  "kernelspec": {
   "display_name": "Python 3",
   "language": "python",
   "name": "python3"
  },
  "language_info": {
   "codemirror_mode": {
    "name": "ipython",
    "version": 3
   },
   "file_extension": ".py",
   "mimetype": "text/x-python",
   "name": "python",
   "nbconvert_exporter": "python",
   "pygments_lexer": "ipython3",
   "version": "3.9.5"
  }
 },
 "nbformat": 4,
 "nbformat_minor": 2
}
